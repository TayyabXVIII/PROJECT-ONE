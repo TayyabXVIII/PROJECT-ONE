{
 "cells": [
  {
   "cell_type": "markdown",
   "metadata": {},
   "source": [
    "## 1. Divisibility Check of two numbers\n",
    "\n",
    "Write a Python program to check whether a number is completely divisible by another number. Accept two integer values form the user\n",
    "##### Program Console Sample Output 1:\n",
    "Enter numerator: 4\n",
    "\n",
    "Enter Denominator: 2\n",
    "\n",
    "Number 4 is Completely divisible by 2\n",
    "###### Program Console Sample Output 2:\n",
    "Enter numerator: 7\n",
    "\n",
    "Enter Denominator: 4\n",
    "\n",
    "Number 7 is not Completely divisible by 4"
   ]
  },
  {
   "cell_type": "code",
   "execution_count": 19,
   "metadata": {},
   "outputs": [
    {
     "name": "stdout",
     "output_type": "stream",
     "text": [
      "ENTER A NUMBERATOR:10\n",
      "ENTER A DEMNOMINATOR:2\n",
      "NUMBER 10 IS COMPLETELY DIVISIBLE BY 2\n"
     ]
    }
   ],
   "source": [
    "n = int(input('ENTER A NUMBERATOR:'))\n",
    "m = int(input('ENTER A DEMNOMINATOR:'))\n",
    "divide = n%m\n",
    "if divide ==0:\n",
    "    print('NUMBER',n,'IS COMPLETELY DIVISIBLE BY',m)\n",
    "else:\n",
    "    print('NUMBER',n,'IS NOT COMPLETELY DIVISIBLE BY',m)"
   ]
  },
  {
   "cell_type": "markdown",
   "metadata": {},
   "source": [
    "## 2. Copy string n times\n",
    "Write a Python program to get a string which is n (non-negative integer) copies of a given string.\n",
    "##### Program Console Output:\n",
    "Enter String: Hi\n",
    "\n",
    "How many copies of String you need: 4\n",
    "\n",
    "4 Copies of Hi are HiHiHiHi"
   ]
  },
  {
   "cell_type": "code",
   "execution_count": 24,
   "metadata": {},
   "outputs": [
    {
     "name": "stdout",
     "output_type": "stream",
     "text": [
      "ENTER STRING :ME\n",
      "HOW MANY COPIES OF INTEGER DO YOU NEED2\n",
      "2 COPIES OF ME ARE MEME\n"
     ]
    }
   ],
   "source": [
    "user_input = input('ENTER STRING :')\n",
    "user_input2 = int(input('HOW MANY COPIES OF INTEGER DO YOU NEED'))\n",
    "print(user_input2,\"COPIES OF\",user_input,\"ARE\",user_input*user_input2)"
   ]
  },
  {
   "cell_type": "markdown",
   "metadata": {},
   "source": [
    "## 3. Vowel Tester\n",
    "Write a Python program to test whether a passed letter is a vowel or not\n",
    "#### Program Console Output 1:\n",
    "Enter a character: A\n",
    "\n",
    "Letter A is Vowel\n",
    "#### Program Console Output 2:\n",
    "Enter a character: e\n",
    "\n",
    "Letter e is Vowel\n",
    "#### Program Console Output 2:\n",
    "Enter a character: N\n",
    "Letter N is not Vowel"
   ]
  },
  {
   "cell_type": "code",
   "execution_count": 27,
   "metadata": {},
   "outputs": [
    {
     "name": "stdout",
     "output_type": "stream",
     "text": [
      "ENTER A LETTER: e\n",
      "THE LETTER e IS A VOWEL\n"
     ]
    }
   ],
   "source": [
    "input1 = input(\"ENTER A LETTER: \")\n",
    "input1.lower()\n",
    "vowel = ['a','e','i','o','u']\n",
    "if input1.lower() in vowel:\n",
    "    print('THE LETTER',input1,'IS A VOWEL')\n",
    "else:\n",
    "    print('THE LETTER',input1,'IS NOT A VOWEL')\n",
    "\n",
    "    "
   ]
  },
  {
   "cell_type": "markdown",
   "metadata": {},
   "source": [
    "## 4. Odd No.s\n",
    "Use the third argument of the range() function to make a list of the odd numbers from 1 to 20. Use a for loop to print each number."
   ]
  },
  {
   "cell_type": "code",
   "execution_count": 34,
   "metadata": {},
   "outputs": [
    {
     "name": "stdout",
     "output_type": "stream",
     "text": [
      "ODD NUMBER BETWEEN 1 TO 20\n",
      "1\n",
      "3\n",
      "5\n",
      "7\n",
      "9\n",
      "11\n",
      "13\n",
      "15\n",
      "17\n",
      "19\n"
     ]
    }
   ],
   "source": [
    "print('ODD NUMBER BETWEEN 1 TO 20')\n",
    "for odd_number in range(1,21,2):\n",
    "    print(odd_number)\n",
    "    "
   ]
  },
  {
   "cell_type": "markdown",
   "metadata": {},
   "source": [
    "## 5. Food Slicing\n",
    "Make a python program that contains your nine favourite dishes in a list called foods.Print the message, \n",
    "\n",
    "**The first three items in the list are:**\n",
    "\n",
    "Then use a slice to print the first three items from that program’s list.Print the message, \n",
    "\n",
    "**Three items from the middle of the list are:**\n",
    "\n",
    "Use a slice to print three items from the middle of the list.Print the message, \n",
    "\n",
    "**The last three items in the list are:**\n",
    "\n",
    "Use a slice to print the last three items in the list."
   ]
  },
  {
   "cell_type": "code",
   "execution_count": 40,
   "metadata": {},
   "outputs": [
    {
     "name": "stdout",
     "output_type": "stream",
     "text": [
      "THE FIRST THREE ITEM IN THE LIST: \n",
      "Pizza\n",
      "Biryani\n",
      "Lasagna\n",
      "\n",
      "\n",
      "THE ITEMS FROM THE MIDDLE OF THE LIST:\n",
      "Fish\n",
      "Prawns\n",
      "Chapli Kabab\n",
      "\n",
      "\n",
      "THE LAST THREE ITEMS FROM THE LIST: \n",
      "Franch Fries\n",
      "Broast\n",
      "Payee\n"
     ]
    }
   ],
   "source": [
    " FOODS = ['pizza','biryani','lasagna','fish','prawns','chapli kabab','franch fries','broast','payee']\n",
    "print('THE FIRST THREE ITEM IN THE LIST: ')\n",
    "for i in FOODS[0:3:1]:\n",
    "    i.title()\n",
    "    print(i.title())\n",
    "print('\\n')\n",
    "print('THE ITEMS FROM THE MIDDLE OF THE LIST:')\n",
    "for i in FOODS[3:6:1]:\n",
    "    i.title()\n",
    "    print(i.title())\n",
    "print('\\n')\n",
    "print('THE LAST THREE ITEMS FROM THE LIST: ')\n",
    "for i in FOODS[6:]:\n",
    "    i.title()\n",
    "    print(i.title())\n"
   ]
  },
  {
   "cell_type": "code",
   "execution_count": null,
   "metadata": {},
   "outputs": [],
   "source": []
  }
 ],
 "metadata": {
  "kernelspec": {
   "display_name": "Python 3",
   "language": "python",
   "name": "python3"
  },
  "language_info": {
   "codemirror_mode": {
    "name": "ipython",
    "version": 3
   },
   "file_extension": ".py",
   "mimetype": "text/x-python",
   "name": "python",
   "nbconvert_exporter": "python",
   "pygments_lexer": "ipython3",
   "version": "3.7.4"
  }
 },
 "nbformat": 4,
 "nbformat_minor": 2
}
